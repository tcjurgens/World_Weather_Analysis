{
 "cells": [
  {
   "cell_type": "code",
   "execution_count": 1,
   "id": "b633c5be",
   "metadata": {},
   "outputs": [],
   "source": [
    "# Import the random module.\n",
    "import random"
   ]
  },
  {
   "cell_type": "code",
   "execution_count": 6,
   "id": "3d96ca63",
   "metadata": {},
   "outputs": [
    {
     "data": {
      "text/plain": [
       "79"
      ]
     },
     "execution_count": 6,
     "metadata": {},
     "output_type": "execute_result"
    }
   ],
   "source": [
    "random.randint(-90, 90)  # gives a single integer between –90 and 90"
   ]
  },
  {
   "cell_type": "code",
   "execution_count": 7,
   "id": "f6f7351d",
   "metadata": {},
   "outputs": [
    {
     "data": {
      "text/plain": [
       "0.16681700961081525"
      ]
     },
     "execution_count": 7,
     "metadata": {},
     "output_type": "execute_result"
    }
   ],
   "source": [
    "random.random()  # outputs a decimal point number between 0 and 1.0"
   ]
  },
  {
   "cell_type": "code",
   "execution_count": 10,
   "id": "97abff2b",
   "metadata": {},
   "outputs": [
    {
     "data": {
      "text/plain": [
       "-63.354838694236136"
      ]
     },
     "execution_count": 10,
     "metadata": {},
     "output_type": "execute_result"
    }
   ],
   "source": [
    "# combine randint() and random() to retrieve a random floating point decimal between randint parameters\n",
    "random_number = random.randint(-90,89) + random.random()   # summed tog. gives a float point btwn -90/90\n",
    "random_number  "
   ]
  },
  {
   "cell_type": "code",
   "execution_count": 15,
   "id": "2fb85d88",
   "metadata": {},
   "outputs": [
    {
     "data": {
      "text/plain": [
       "[12.842327490378027,\n",
       " 28.811838122741847,\n",
       " -11.426911831407107,\n",
       " -89.20291000600383,\n",
       " 37.97714238501416,\n",
       " 77.04142438973697,\n",
       " 78.72119180451884,\n",
       " 10.315278502807494,\n",
       " -60.06842267333136,\n",
       " 72.19716359058486]"
      ]
     },
     "execution_count": 15,
     "metadata": {},
     "output_type": "execute_result"
    }
   ],
   "source": [
    "x = 1\n",
    "latitudes = []    # initialize an empty list\n",
    "while x < 11:     # runs thru list x < 11 times  \n",
    "    random_lat = random.randint(-90, 89) + random.random()\n",
    "    latitudes.append(random_lat)   # appends the random no. to the list\n",
    "    x += 1\n",
    "    \n",
    "latitudes # prints list"
   ]
  },
  {
   "cell_type": "code",
   "execution_count": null,
   "id": "c0a5d6d8",
   "metadata": {},
   "outputs": [],
   "source": []
  },
  {
   "cell_type": "code",
   "execution_count": 17,
   "id": "67512ec5",
   "metadata": {},
   "outputs": [],
   "source": [
    "# the randrange() function\n",
    "\n",
    "# inside the parentheses, we need to add two numbers, a lower and upper limit, separated by a comma\n",
    "# For the randrange() function, there is an option to add a step parameter and set it equal to an integer, \n",
    "        # which will generate increments of a given integer value, from the lower to the upper limit"
   ]
  },
  {
   "cell_type": "code",
   "execution_count": 23,
   "id": "d9211f20",
   "metadata": {},
   "outputs": [
    {
     "data": {
      "text/plain": [
       "-71"
      ]
     },
     "execution_count": 23,
     "metadata": {},
     "output_type": "execute_result"
    }
   ],
   "source": [
    "random.randrange(-90,90,step=1)\n",
    "\n",
    "# step is the difference btwn ea. number in the sequence"
   ]
  },
  {
   "cell_type": "code",
   "execution_count": 24,
   "id": "2ff01780",
   "metadata": {},
   "outputs": [
    {
     "data": {
      "text/plain": [
       "-6"
      ]
     },
     "execution_count": 24,
     "metadata": {},
     "output_type": "execute_result"
    }
   ],
   "source": [
    "random.randrange(-90, 90, step=3)"
   ]
  },
  {
   "cell_type": "code",
   "execution_count": null,
   "id": "64e7737b",
   "metadata": {},
   "outputs": [],
   "source": []
  },
  {
   "cell_type": "code",
   "execution_count": null,
   "id": "066a1d23",
   "metadata": {},
   "outputs": [],
   "source": []
  },
  {
   "cell_type": "code",
   "execution_count": 28,
   "id": "a36e78d6",
   "metadata": {},
   "outputs": [],
   "source": [
    "# the uniform() function\n",
    "\n",
    "# allows us to generate a FLOATING-POINT DECIMAL number between two given numbers inside the parentheses"
   ]
  },
  {
   "cell_type": "code",
   "execution_count": 29,
   "id": "0147e4c0",
   "metadata": {},
   "outputs": [
    {
     "data": {
      "text/plain": [
       "-40.392207239927444"
      ]
     },
     "execution_count": 29,
     "metadata": {},
     "output_type": "execute_result"
    }
   ],
   "source": [
    "random.uniform(-90,90)"
   ]
  },
  {
   "cell_type": "code",
   "execution_count": null,
   "id": "41431df9",
   "metadata": {},
   "outputs": [],
   "source": []
  },
  {
   "cell_type": "code",
   "execution_count": null,
   "id": "32c19550",
   "metadata": {},
   "outputs": [],
   "source": []
  },
  {
   "cell_type": "code",
   "execution_count": 30,
   "id": "e8ecba7b",
   "metadata": {},
   "outputs": [],
   "source": [
    "# numpy and random modules"
   ]
  },
  {
   "cell_type": "code",
   "execution_count": 31,
   "id": "8b43bec2",
   "metadata": {},
   "outputs": [],
   "source": [
    "# Import the NumPy module.\n",
    "import numpy as np"
   ]
  },
  {
   "cell_type": "code",
   "execution_count": 32,
   "id": "8f2d1a96",
   "metadata": {},
   "outputs": [
    {
     "data": {
      "text/plain": [
       "-75.84611165694123"
      ]
     },
     "execution_count": 32,
     "metadata": {},
     "output_type": "execute_result"
    }
   ],
   "source": [
    "np.random.uniform(-90.000, 90.000)   # adding zeros should be optional"
   ]
  },
  {
   "cell_type": "code",
   "execution_count": 33,
   "id": "bcd1161c",
   "metadata": {},
   "outputs": [],
   "source": [
    "# np.random.uniform(-90, 90)\n",
    "# np.random.uniform(low=-90, high=90)"
   ]
  },
  {
   "cell_type": "code",
   "execution_count": 34,
   "id": "f0e701c9",
   "metadata": {},
   "outputs": [],
   "source": [
    "# above ^ should result in the same parametrized random no.s"
   ]
  },
  {
   "cell_type": "code",
   "execution_count": 36,
   "id": "765f8024",
   "metadata": {},
   "outputs": [
    {
     "data": {
      "text/plain": [
       "array([ 16.47848552, -74.50698634,   3.53970645,   6.24085937,\n",
       "       -78.29961646, -64.63528255,  10.63974768, -70.48225935,\n",
       "       -38.30424399, -26.22626088,  -4.16010422, -50.4953403 ,\n",
       "        21.83474824, -70.16982181, -68.93915225,  51.06836542,\n",
       "       -17.66878322,  -5.85563825,  73.87224865,  27.11864369,\n",
       "        10.01302824,  24.02322518, -89.83642817,  81.49257156,\n",
       "        -6.59278843,  35.90330811, -78.01060328,  40.76068507,\n",
       "        63.8198107 , -41.28137165, -14.96398708, -58.32807615,\n",
       "        23.73313838,  61.44627292, -11.0626266 ,  66.48598637,\n",
       "        -1.49551249, -13.96806813,  67.29963914, -54.71844485,\n",
       "        26.20232888,  32.4206617 ,  18.22995071,  40.28312495,\n",
       "        87.59193557, -57.87428153,  53.57117305,   4.02089421,\n",
       "        60.83366612,  37.83230273])"
      ]
     },
     "execution_count": 36,
     "metadata": {},
     "output_type": "execute_result"
    }
   ],
   "source": [
    "# generate more than one random no. \n",
    "\n",
    "np.random.uniform(-90,90,size=50)"
   ]
  },
  {
   "cell_type": "code",
   "execution_count": null,
   "id": "a46d7626",
   "metadata": {},
   "outputs": [],
   "source": []
  },
  {
   "cell_type": "code",
   "execution_count": 37,
   "id": "a9f6bbb2",
   "metadata": {},
   "outputs": [],
   "source": [
    "# To test how long a piece of code or function takes to run, we can import the \"timeit\" module \n",
    "# and use the %timeit magic command when we run our code or call the function"
   ]
  },
  {
   "cell_type": "code",
   "execution_count": 38,
   "id": "c7c3a06c",
   "metadata": {},
   "outputs": [],
   "source": [
    "# Import timeit.\n",
    "import timeit"
   ]
  },
  {
   "cell_type": "code",
   "execution_count": null,
   "id": "2d3b9e3d",
   "metadata": {},
   "outputs": [],
   "source": []
  },
  {
   "cell_type": "code",
   "execution_count": 40,
   "id": "f6160684",
   "metadata": {},
   "outputs": [
    {
     "name": "stdout",
     "output_type": "stream",
     "text": [
      "13.3 µs ± 282 ns per loop (mean ± std. dev. of 7 runs, 100000 loops each)\n"
     ]
    }
   ],
   "source": [
    "%timeit np.random.uniform(-90.000, 90.000, size=1500)"
   ]
  },
  {
   "cell_type": "code",
   "execution_count": 41,
   "id": "2460c5b8",
   "metadata": {},
   "outputs": [
    {
     "name": "stdout",
     "output_type": "stream",
     "text": [
      "1.91 ms ± 16.4 µs per loop (mean ± std. dev. of 7 runs, 1000 loops each)\n"
     ]
    }
   ],
   "source": [
    "def latitudes(size):\n",
    "    latitudes = []\n",
    "    x = 0\n",
    "    while x < (size):\n",
    "        random_lat = random.randint(-90, 90) + random.random()\n",
    "        latitudes.append(random_lat)\n",
    "        x += 1\n",
    "    return latitudes\n",
    "# Call the function with 1500.\n",
    "%timeit latitudes(1500)"
   ]
  },
  {
   "cell_type": "code",
   "execution_count": 42,
   "id": "2fc89c72",
   "metadata": {},
   "outputs": [],
   "source": [
    "#. ^ ^ ^ how long to generate 1500 random float point latitudes"
   ]
  },
  {
   "cell_type": "code",
   "execution_count": 43,
   "id": "2040ffe7",
   "metadata": {},
   "outputs": [],
   "source": [
    "# using the one line code in In [40] is much faster"
   ]
  },
  {
   "cell_type": "code",
   "execution_count": null,
   "id": "1fff6e70",
   "metadata": {},
   "outputs": [],
   "source": []
  },
  {
   "cell_type": "code",
   "execution_count": null,
   "id": "8e99f2b1",
   "metadata": {},
   "outputs": [],
   "source": []
  },
  {
   "cell_type": "code",
   "execution_count": 44,
   "id": "adfa5c16",
   "metadata": {},
   "outputs": [],
   "source": [
    "# create latitude and longitude combinations"
   ]
  },
  {
   "cell_type": "code",
   "execution_count": 45,
   "id": "8f23fd10",
   "metadata": {},
   "outputs": [],
   "source": [
    "# Import the dependencies.\n",
    "import pandas as pd\n",
    "import matplotlib.pyplot as plt\n",
    "import numpy as np"
   ]
  },
  {
   "cell_type": "code",
   "execution_count": 46,
   "id": "8de72b80",
   "metadata": {},
   "outputs": [
    {
     "data": {
      "text/plain": [
       "<zip at 0x7f92daa58eb0>"
      ]
     },
     "execution_count": 46,
     "metadata": {},
     "output_type": "execute_result"
    }
   ],
   "source": [
    "# Create a set of random latitude and longitude combinations.\n",
    "lats = np.random.uniform(low=-90.000, high=90.000, size=1500)\n",
    "lngs = np.random.uniform(low=-180.000, high=180.000, size=1500)\n",
    "lat_lngs = zip(lats, lngs)\n",
    "lat_lngs"
   ]
  },
  {
   "cell_type": "code",
   "execution_count": 47,
   "id": "a2ff9f0e",
   "metadata": {},
   "outputs": [],
   "source": [
    "# The zip object packs each pair of lats and lngs having the same index in their respective array into a tuple. \n",
    "# If there are 1,500 latitudes and longitudes, there will be 1,500 tuples of paired latitudes and longitudes, \n",
    "# where each latitude and longitude in a tuple can be accessed by the index of 0 and 1, respectively"
   ]
  },
  {
   "cell_type": "code",
   "execution_count": null,
   "id": "44d3ab5e",
   "metadata": {},
   "outputs": [],
   "source": []
  }
 ],
 "metadata": {
  "kernelspec": {
   "display_name": "PythonData",
   "language": "python",
   "name": "pythondata"
  },
  "language_info": {
   "codemirror_mode": {
    "name": "ipython",
    "version": 3
   },
   "file_extension": ".py",
   "mimetype": "text/x-python",
   "name": "python",
   "nbconvert_exporter": "python",
   "pygments_lexer": "ipython3",
   "version": "3.7.10"
  }
 },
 "nbformat": 4,
 "nbformat_minor": 5
}
